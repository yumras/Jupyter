{
 "cells": [
  {
   "cell_type": "markdown",
   "metadata": {},
   "source": [
    "# <파이썬 자료형 연습 -1- >"
   ]
  },
  {
   "cell_type": "markdown",
   "metadata": {},
   "source": [
    "## 0. 경로찾기"
   ]
  },
  {
   "cell_type": "code",
   "execution_count": 31,
   "metadata": {
    "scrolled": false
   },
   "outputs": [
    {
     "data": {
      "text/plain": [
       "'C:\\\\Users\\\\SMART-16\\\\Python Session\\\\Session01'"
      ]
     },
     "execution_count": 31,
     "metadata": {},
     "output_type": "execute_result"
    }
   ],
   "source": [
    "pwd"
   ]
  },
  {
   "cell_type": "markdown",
   "metadata": {},
   "source": [
    "## 1. 변수선언"
   ]
  },
  {
   "cell_type": "code",
   "execution_count": 32,
   "metadata": {
    "scrolled": true
   },
   "outputs": [
    {
     "name": "stdout",
     "output_type": "stream",
     "text": [
      "15\n"
     ]
    }
   ],
   "source": [
    "a=3\n",
    "b=5\n",
    "print(a*b)"
   ]
  },
  {
   "cell_type": "markdown",
   "metadata": {},
   "source": [
    "## 2. 문자열 선언 및 길이"
   ]
  },
  {
   "cell_type": "code",
   "execution_count": 33,
   "metadata": {},
   "outputs": [
    {
     "name": "stdout",
     "output_type": "stream",
     "text": [
      "'가나다라마바사'의 길이는 7\n"
     ]
    }
   ],
   "source": [
    "A=\"가나다라마바사\"\n",
    "print(\"'\"+A+\"'\"+\"의 길이는 \"+str(len(A)))"
   ]
  },
  {
   "cell_type": "markdown",
   "metadata": {},
   "source": [
    "## 3. 문자열 대/소문자화"
   ]
  },
  {
   "cell_type": "code",
   "execution_count": 34,
   "metadata": {
    "scrolled": true
   },
   "outputs": [
    {
     "name": "stdout",
     "output_type": "stream",
     "text": [
      "B = abCDefGHi\n",
      "B.lower = abcdefghi\n",
      "B.upper = ABCDEFGHI\n"
     ]
    }
   ],
   "source": [
    "B=\"abCDefGHi\"\n",
    "print(\"B = \"+B)\n",
    "print(\"B.lower = \"+B.lower())\n",
    "print(\"B.upper = \"+B.upper())"
   ]
  },
  {
   "cell_type": "markdown",
   "metadata": {},
   "source": [
    "### -- 변수명 생성시 주의점"
   ]
  },
  {
   "cell_type": "markdown",
   "metadata": {},
   "source": [
    "#### -- 1. 변수명 대소문자 구분"
   ]
  },
  {
   "cell_type": "markdown",
   "metadata": {},
   "source": [
    "#### -- 2. 변수명 처음에 숫자 불가"
   ]
  },
  {
   "cell_type": "markdown",
   "metadata": {},
   "source": [
    "#### -- 3. 변수명 예약어 사용불가"
   ]
  },
  {
   "cell_type": "markdown",
   "metadata": {},
   "source": [
    "## 4. 수(Number) "
   ]
  },
  {
   "cell_type": "markdown",
   "metadata": {},
   "source": [
    "#### 숫자형을 활용한 사직연산"
   ]
  },
  {
   "cell_type": "code",
   "execution_count": 35,
   "metadata": {},
   "outputs": [
    {
     "name": "stdout",
     "output_type": "stream",
     "text": [
      "\u001b[1m0.파이썬 사칙연산\u001b[0;0m\n",
      "integer_value = 123\n",
      "float_value = 12.456\n",
      "<class 'int'>\n",
      "<class 'float'>\n",
      "\n",
      "\n",
      "\u001b[1m1. 더하기 연산\u001b[0;0m\n",
      "summation = 135.456\n",
      "\n",
      "\n",
      "\u001b[1m2. 곱하기 연산\u001b[0;0m\n",
      "multiple = 1532.088\n",
      "\n",
      "\n",
      "\u001b[1m3. 나누기 연산\u001b[0;0m\n",
      "division = 9.8747591522158\n",
      "\n",
      "\n",
      "\u001b[1m4. 제곱연산\u001b[0;0m\n",
      "square = 144\n",
      "\n",
      "\n",
      "\u001b[1m5. 나머지 연산\u001b[0;0m\n",
      "mod = 3\n"
     ]
    }
   ],
   "source": [
    "bold = \"\\033[1m\"\n",
    "reset = \"\\033[0;0m\"\n",
    "\n",
    "# 0.파이썬 사칙연산\n",
    "print(bold+\"0.파이썬 사칙연산\"+reset)\n",
    "integer_value = 123\n",
    "float_value = 12.456\n",
    "print(\"integer_value = \"+str(integer_value))\n",
    "print(\"float_value = \"+str(float_value))\n",
    "print(type(integer_value))\n",
    "print(type(float_value))\n",
    "print(\"\\n\")\n",
    "\n",
    "# 1. 더하기 연산\n",
    "print(bold+\"1. 더하기 연산\"+reset)\n",
    "summation = integer_value+float_value\n",
    "print(\"summation = \" + str(summation))\n",
    "print(\"\\n\")\n",
    "\n",
    "# 2. 곱하기 연산\n",
    "print(bold+\"2. 곱하기 연산\"+reset)\n",
    "multiple = integer_value*float_value\n",
    "print(\"multiple = \"+str(multiple))\n",
    "print(\"\\n\")\n",
    "\n",
    "# 3. 나누기 연산\n",
    "print(bold+\"3. 나누기 연산\"+reset)\n",
    "division = integer_value/float_value\n",
    "print(\"division = \"+str(division))\n",
    "print(\"\\n\")\n",
    "\n",
    "# 4. 제곱연산\n",
    "print(bold+\"4. 제곱연산\"+reset)\n",
    "integer_value2 = int(float_value)\n",
    "exponential = integer_value2**2\n",
    "print(\"square = \"+str(exponential))\n",
    "print(\"\\n\")\n",
    "\n",
    "# 5. 나머지 연산\n",
    "print(bold+\"5. 나머지 연산\"+reset)\n",
    "mod = integer_value%int(float_value)\n",
    "print(\"mod = \"+str(mod))\n"
   ]
  },
  {
   "cell_type": "code",
   "execution_count": 36,
   "metadata": {},
   "outputs": [
    {
     "name": "stdout",
     "output_type": "stream",
     "text": [
      "\u001b[34m\u001b[1mShow me your color\u001b[0m\n"
     ]
    }
   ],
   "source": [
    "print('\\033[34m'+'\\033[1m'+\"Show me your color\"+'\\033[0m')"
   ]
  },
  {
   "cell_type": "markdown",
   "metadata": {},
   "source": [
    "## 5. 문자열(String) "
   ]
  },
  {
   "cell_type": "markdown",
   "metadata": {},
   "source": [
    "### 문자, 단어 등으로 구성된 문자들의 집합"
   ]
  },
  {
   "cell_type": "code",
   "execution_count": 37,
   "metadata": {},
   "outputs": [
    {
     "name": "stdout",
     "output_type": "stream",
     "text": [
      "\u001b[1m큰 따옴표로 활용\u001b[0;0m\n",
      "This is 'String' value\n",
      "\n",
      "\u001b[1m작은 따옴표로 활용\u001b[0;0m\n",
      "This is \"String\" value\n",
      "\n",
      "\u001b[1m큰따옴표 연속 3개 활용\u001b[0;0m\n",
      "This is \n",
      "    'String\" value\n"
     ]
    }
   ],
   "source": [
    "#큰 따옴표로 활용\n",
    "print(bold+\"큰 따옴표로 활용\"+reset)\n",
    "aType = \"This is 'String' value\"\n",
    "print(aType+\"\\n\")\n",
    "\n",
    "#작은 따옴표로 활용\n",
    "print(bold+\"작은 따옴표로 활용\"+reset)\n",
    "bType = 'This is \"String\" value'\n",
    "print(bType+\"\\n\")\n",
    "\n",
    "#큰따옴표 연속 3개 활용\n",
    "print(bold+\"큰따옴표 연속 3개 활용\"+reset)\n",
    "cType = \"\"\"This is \n",
    "    'String\" value\"\"\"\n",
    "print(cType)\n",
    "\n"
   ]
  },
  {
   "cell_type": "markdown",
   "metadata": {},
   "source": [
    "### 문자열 연산하기"
   ]
  },
  {
   "cell_type": "code",
   "execution_count": 38,
   "metadata": {},
   "outputs": [
    {
     "name": "stdout",
     "output_type": "stream",
     "text": [
      "\u001b[1m문자열 더하기\u001b[0;0m\n",
      "polytech + \" \" + student = polytech student\n",
      "\n",
      "\u001b[1m문자열 곱하기\u001b[0;0m\n",
      "******************** 문자열 연산 프로그램 ********************\n",
      "\n",
      "문자열 인덱싱 0부터 시작\n",
      "\u001b[1m첫번째 문자열 \u001b[0;0m\n",
      "yearweek[0] = 2\n",
      "\u001b[1m0~4번째 전 문자열\u001b[0;0m\n",
      "yearweek[0:4] = 2018\n",
      "\u001b[1m4번째부터 끝까지\u001b[0;0m\n",
      "yearweek[4:] = 01\n"
     ]
    }
   ],
   "source": [
    "#문자열 더하기\n",
    "print(bold+\"문자열 더하기\"+reset)\n",
    "head = \"polytech\"\n",
    "tail = \"student\"\n",
    "fullString = head+\" \"+tail\n",
    "print('polytech + \" \" + student = '+fullString+\"\\n\")\n",
    "\n",
    "#문자열 곱하기\n",
    "print(bold+\"문자열 곱하기\"+reset)\n",
    "print(\"*\"*20+\" 문자열 연산 프로그램 \"+\"*\"*20+\"\\n\")\n",
    "\n",
    "#문자열 인덱싱 0부터 시작\n",
    "print(\"문자열 인덱싱 0부터 시작\")\n",
    "yearweek = \"201801\"\n",
    "#첫번째 문자열 \n",
    "print(bold+\"첫번째 문자열 \"+reset)\n",
    "print(\"yearweek[0] = \"+yearweek[0])   \n",
    "#0~4번째 전 문자열\n",
    "print(bold+\"0~4번째 전 문자열\"+reset)\n",
    "print(\"yearweek[0:4] = \"+yearweek[0:4]) \n",
    "#4번째부터 끝까지\n",
    "print(bold+\"4번째부터 끝까지\"+reset)\n",
    "print(\"yearweek[4:] = \"+yearweek[4:])  \n"
   ]
  },
  {
   "cell_type": "markdown",
   "metadata": {},
   "source": [
    "### 문자열 관련 함수"
   ]
  },
  {
   "cell_type": "code",
   "execution_count": 39,
   "metadata": {},
   "outputs": [
    {
     "name": "stdout",
     "output_type": "stream",
     "text": [
      "문자열 개수세기\n",
      "yearweek.count('W') = 1\n",
      "\n",
      "문자열 위치확인\n",
      "yearweek.index('W') = 4\n",
      "yearweek[:delimeter]+yearweek[delimeter+1:] = ['201728']\n",
      "\n",
      "이외 upper, lower, replace\n",
      "\n",
      "split 함수\n",
      "yearweek.split(\"W\") = ['2017', '28']\n"
     ]
    }
   ],
   "source": [
    "#문자열 개수세기\n",
    "print(\"문자열 개수세기\")\n",
    "yearweek = \"2017W28\"\n",
    "print(\"yearweek.count('W') = \"+str(yearweek.count('W'))+\"\\n\")\n",
    "\n",
    "#문자열 위치확인\n",
    "print(\"문자열 위치확인\")\n",
    "print(\"yearweek.index('W') = \"+str(yearweek.index('W')))\n",
    "delimeter=yearweek.index('W')\n",
    "yearweek_new = yearweek[:delimeter]+yearweek[delimeter+1:]\n",
    "print(\"yearweek[:delimeter]+yearweek[delimeter+1:] = \"+str([yearweek_new])+\"\\n\")\n",
    "# 이외 upper, lower, replace\n",
    "print(\"이외 upper, lower, replace\"+\"\\n\")\n",
    "\n",
    "# split 함수\n",
    "print(\"split 함수\")\n",
    "yearweek_list = yearweek.split(\"W\")\n",
    "print('yearweek.split(\"W\") = '+str(yearweek_list))\n"
   ]
  },
  {
   "cell_type": "markdown",
   "metadata": {},
   "source": [
    "### 예제 - “SEC 20180212 250”  문자열 생성 후 stock_name, date, value로 각각 의미하는 문자열을 생성하세요"
   ]
  },
  {
   "cell_type": "code",
   "execution_count": 40,
   "metadata": {},
   "outputs": [
    {
     "name": "stdout",
     "output_type": "stream",
     "text": [
      "\u001b[1m방법 1\n",
      "\u001b[0;0m\n",
      "stock = SEC 20180212 250\n",
      "\n",
      "stock_name = SEC\n",
      "\n",
      "stock_date = 20180212\n",
      "\n",
      "stock_value = 250\n"
     ]
    }
   ],
   "source": [
    "print(bold+\"방법 1\\n\"+reset)\n",
    "stock = \"SEC 20180212 250\"\n",
    "print(\"stock = \"+stock+\"\\n\")\n",
    "\n",
    "stock_name = stock[:3]\n",
    "print(\"stock_name = \"+stock_name+\"\\n\")\n",
    "\n",
    "stock_date = stock[4:12]\n",
    "print(\"stock_date = \"+stock_date+\"\\n\")\n",
    "\n",
    "stock_value = stock[13:]\n",
    "print(\"stock_value = \"+stock_value)"
   ]
  },
  {
   "cell_type": "code",
   "execution_count": 41,
   "metadata": {},
   "outputs": [
    {
     "name": "stdout",
     "output_type": "stream",
     "text": [
      "\u001b[1m방법 2\n",
      "\u001b[0;0m\n",
      "stock2 = ['SEC', '20180212', '250']\n",
      "stock2[0] = SEC\n",
      "stock2[1] = 20180212\n",
      "stock2[2] = 250\n"
     ]
    }
   ],
   "source": [
    "print(bold+\"방법 2\\n\"+reset)\n",
    "stock2 = stock.split(\" \")\n",
    "print(\"stock2 = \"+str(stock2))\n",
    "print(\"stock2[0] = \"+stock2[0])\n",
    "print(\"stock2[1] = \"+stock2[1])\n",
    "print(\"stock2[2] = \"+stock2[2])"
   ]
  },
  {
   "cell_type": "markdown",
   "metadata": {},
   "source": [
    "## 6. 리스트(List)"
   ]
  },
  {
   "cell_type": "markdown",
   "metadata": {},
   "source": [
    "### 리스트 연산하기"
   ]
  },
  {
   "cell_type": "code",
   "execution_count": 42,
   "metadata": {},
   "outputs": [
    {
     "name": "stdout",
     "output_type": "stream",
     "text": [
      "\u001b[1m리스트 연산\u001b[0;0m\n",
      "stockName = ['SEC']\n",
      "priceList = [120, 130]\n",
      "dateList = [201712, 201713]\n",
      "secinfo = stockName+priceList+[dateList] = ['SEC', 120, 130, [201712, 201713]]\n",
      "\n",
      "\n",
      "\u001b[1m리스트 인덱싱\u001b[0;0m\n",
      "secinfo[1] = 120\n",
      "secinfo[3] = [201712, 201713]\n",
      "secinfo[3][0] = 201712\n",
      "secinfo[0:3] = ['SEC', 120, 130]\n"
     ]
    }
   ],
   "source": [
    "#리스트 연산\n",
    "print(bold+\"리스트 연산\"+reset)\n",
    "stockName = [\"SEC\"]\n",
    "print(\"stockName = \"+str(stockName))\n",
    "priceList = [120,130]\n",
    "print(\"priceList = \"+str(priceList))\n",
    "dateList = [201712,201713]\n",
    "print(\"dateList = \"+str(dateList))\n",
    "\n",
    "secinfo = stockName+priceList+[dateList]\n",
    "print(\"secinfo = stockName+priceList+[dateList] = \"+str(secinfo))\n",
    "print(\"\\n\")\n",
    "\n",
    "#리스트 인덱싱\n",
    "#secinfo=[\"SEC\",120,130,[201712,201713]]\n",
    "print(bold+\"리스트 인덱싱\"+reset)\n",
    "print(\"secinfo[1] = \"+str(secinfo[1]))\n",
    "print(\"secinfo[3] = \"+str(secinfo[3]))\n",
    "print(\"secinfo[3][0] = \"+str(secinfo[3][0]))\n",
    "print(\"secinfo[0:3] = \"+str(secinfo[0:3]))\n",
    "\n"
   ]
  },
  {
   "cell_type": "markdown",
   "metadata": {},
   "source": [
    "### 리스트 값 업데이트"
   ]
  },
  {
   "cell_type": "code",
   "execution_count": 43,
   "metadata": {},
   "outputs": [
    {
     "name": "stdout",
     "output_type": "stream",
     "text": [
      "\u001b[1m리스트 값 업데이트 하기\u001b[0;0m\n",
      "updateList = [120, 130, 140, 150]\n",
      "updateList[2] = 180\n",
      "updateList = [120, 130, 180, 150]\n",
      "\n",
      "\u001b[1m리스트 값 삭제하기\u001b[0;0m\n",
      "del updateList[3]\n",
      "updateList = [120, 130, 180]\n",
      "\n",
      "\u001b[1m리스트 값 삭제하기 구간 1<=인덱스<3\u001b[0;0m\n",
      "updateList[1:3] = []\n",
      "updateList = [120]\n"
     ]
    }
   ],
   "source": [
    "#리스트 값 업데이트 하기\n",
    "print(bold+\"리스트 값 업데이트 하기\"+reset)\n",
    "updateList = [120,130,140,150]\n",
    "print(\"updateList = \"+str(updateList))\n",
    "updateList[2] = 180\n",
    "print(\"updateList[2] = 180\")\n",
    "print(\"updateList = \"+str(updateList)+\"\\n\")\n",
    "\n",
    "#리스트 값 삭제하기\n",
    "print(bold+\"리스트 값 삭제하기\"+reset)\n",
    "del updateList[3]\n",
    "print(\"del updateList[3]\")\n",
    "print(\"updateList = \"+str(updateList)+\"\\n\")\n",
    "\n",
    "#리스트 값 삭제하기 구간 1<=인덱스<3\n",
    "print(bold+\"리스트 값 삭제하기 구간 1<=인덱스<3\"+reset)\n",
    "updateList[1:3] = []\n",
    "print(\"updateList[1:3] = []\")\n",
    "print(\"updateList = \"+str(updateList))\n",
    "\n"
   ]
  },
  {
   "cell_type": "markdown",
   "metadata": {},
   "source": [
    "### 리스트 관련 주요함수 #1"
   ]
  },
  {
   "cell_type": "code",
   "execution_count": 44,
   "metadata": {},
   "outputs": [
    {
     "name": "stdout",
     "output_type": "stream",
     "text": [
      "functionList = [120,130,140,150]\n",
      "\n",
      "\u001b[1m리스트에 요소 추가하기\u001b[0;0m\n",
      "functionList.append(100)\n",
      "functionList = [120, 130, 140, 150, 100]\n",
      "\n",
      "\u001b[1m3번째 인덱스에 추가\u001b[0;0m\n",
      "functionList.insert(3,100) \n",
      "functionList = [120, 130, 140, 100, 150, 100]\n",
      "\n",
      "\u001b[1m리스트에 요소 여러개 추가하기\u001b[0;0m\n",
      "functionList.extend([11,12])\n",
      "functionList = [120, 130, 140, 100, 150, 100, 11, 12]\n",
      "\n",
      "\u001b[1m리스트 정렬하기\u001b[0;0m\n",
      "functionList.sort(reverse = False)\n",
      "functionList = [11, 12, 100, 100, 120, 130, 140, 150]\n",
      "\n",
      "\u001b[1m값으로 인덱스 가져오기\u001b[0;0m\n",
      "functionList.index(150) = 7\n",
      "\n",
      "\u001b[1m리스트 자주사용하는 함수\u001b[0;0m\n",
      "len(functionList) = 8\n",
      "min(functionList) = 11\n",
      "max(functionList) = 150\n",
      "sum(functionList) = 763\n"
     ]
    }
   ],
   "source": [
    "bold = \"\\033[1m\"\n",
    "reset = \"\\033[0;0m\"\n",
    "\n",
    "functionList = [120,130,140,150]\n",
    "print(\"functionList = [120,130,140,150]\\n\")\n",
    "\n",
    "#리스트에 요소 추가하기\n",
    "print(bold+\"리스트에 요소 추가하기\"+reset)\n",
    "functionList.append(100)  \n",
    "print(\"functionList.append(100)\")\n",
    "print(\"functionList = \"+str(functionList)+\"\\n\")\n",
    "\n",
    "#3번째 인덱스에 추가\n",
    "print(bold+\"3번째 인덱스에 추가\"+reset)\n",
    "functionList.insert(3,100) \n",
    "print(\"functionList.insert(3,100) \")\n",
    "print(\"functionList = \"+str(functionList)+\"\\n\")\n",
    "\n",
    "#리스트에 요소 여러개 추가하기\n",
    "print(bold+\"리스트에 요소 여러개 추가하기\"+reset)\n",
    "functionList.extend([11,12])\n",
    "print(\"functionList.extend([11,12])\")\n",
    "print(\"functionList = \"+str(functionList)+\"\\n\")\n",
    "\n",
    "#리스트 정렬하기\n",
    "print(bold+\"리스트 정렬하기\"+reset)\n",
    "functionList.sort(reverse = False)\n",
    "print(\"functionList.sort(reverse = False)\")\n",
    "print(\"functionList = \"+str(functionList)+\"\\n\")\n",
    "\n",
    "#값으로 인덱스 가져오기\n",
    "print(bold+\"값으로 인덱스 가져오기\"+reset)\n",
    "print(\"functionList.index(150) = \"+str(functionList.index(150))+\"\\n\")\n",
    "\n",
    "#리스트 자주사용하는 함수\n",
    "print(bold+\"리스트 자주사용하는 함수\"+reset)\n",
    "print(\"len(functionList) = \"+str(len(functionList)))\n",
    "print(\"min(functionList) = \"+str(min(functionList)))\n",
    "print(\"max(functionList) = \"+str(max(functionList)))\n",
    "print(\"sum(functionList) = \"+str(sum(functionList)))\n"
   ]
  },
  {
   "cell_type": "markdown",
   "metadata": {},
   "source": [
    "### 리스트 관련 주요함수 #2"
   ]
  },
  {
   "cell_type": "code",
   "execution_count": 45,
   "metadata": {
    "scrolled": true
   },
   "outputs": [
    {
     "name": "stdout",
     "output_type": "stream",
     "text": [
      "\u001b[1m리스트에 요소 개수 세기\u001b[0;0m\n",
      "functionList = [120,130,140,150,120]\n",
      "functionList.count(120) = 2\n",
      "\n",
      "\u001b[1m리스트에 요소 빼기 (마지막 요소 빠짐 - 뒤에서부터)\u001b[0;0m\n",
      "functionList.pop() = 120\n"
     ]
    }
   ],
   "source": [
    "#리스트에 요소 개수 세기\n",
    "print(bold+\"리스트에 요소 개수 세기\"+reset)\n",
    "functionList = [120,130,140,150,120]\n",
    "print(\"functionList = [120,130,140,150,120]\")\n",
    "print(\"functionList.count(120) = \"+str(functionList.count(120))+\"\\n\")\n",
    "\n",
    "\n",
    "#리스트에 요소 빼기 (마지막 요소 빠짐 - 뒤에서부터)\n",
    "print(bold+\"리스트에 요소 빼기 (마지막 요소 빠짐 - 뒤에서부터)\"+reset)\n",
    "print(\"functionList.pop() = \"+str(functionList.pop()))\n",
    "\n",
    "\n",
    "\n",
    "\n"
   ]
  },
  {
   "cell_type": "markdown",
   "metadata": {},
   "source": [
    "### 예제 - [120,150,300,500,1000,100,2000] 값에서 최소 최대 값을 뺀 평균 averagelist를 구하세요"
   ]
  },
  {
   "cell_type": "code",
   "execution_count": 64,
   "metadata": {},
   "outputs": [
    {
     "name": "stdout",
     "output_type": "stream",
     "text": [
      "testList = [120,150,300,500,1000,100,2000]\n",
      "\n",
      "del testList[testList.index(max(testList))]\n",
      "del testList[testList.index(min(testList))]\n",
      "\n",
      "testList = [120, 150, 300, 500, 1000]\n",
      "\n",
      "averagelist = sum(testList) / len(testList)\n",
      "averagelist = 414.0\n"
     ]
    }
   ],
   "source": [
    "testList = [120,150,300,500,1000,100,2000]\n",
    "print(\"testList = [120,150,300,500,1000,100,2000]\\n\")\n",
    "\n",
    "del testList[testList.index(max(testList))]\n",
    "del testList[testList.index(min(testList))]\n",
    "print(\"del testList[testList.index(max(testList))]\")\n",
    "print(\"del testList[testList.index(min(testList))]\\n\")\n",
    "\n",
    "print(\"testList = \"+str(testList)+\"\\n\")\n",
    "\n",
    "averagelist = sum(testList) / len(testList)\n",
    "print(\"averagelist = sum(testList) / len(testList)\")\n",
    "print(\"averagelist = \"+str(averagelist))\n",
    "\n"
   ]
  },
  {
   "cell_type": "markdown",
   "metadata": {},
   "source": [
    "## 7. 튜플"
   ]
  },
  {
   "cell_type": "markdown",
   "metadata": {},
   "source": [
    "### 리스트와 유사하며 단지 요소를 () 괄호를 활용하여 둘러싼다, 튜플은 요소 값의 생성,삭제, 수정이 불가능하다."
   ]
  },
  {
   "cell_type": "code",
   "execution_count": 47,
   "metadata": {},
   "outputs": [
    {
     "name": "stdout",
     "output_type": "stream",
     "text": [
      "\u001b[1m빈 튜플 생성\u001b[0;0m\n",
      "emptyTuple=list()\n",
      "emptyTuple = []\n",
      "\n",
      "\u001b[1m가격 집합 튜플 생성\u001b[0;0m\n",
      "priceTuple = (120, 130, 150, 200, 170)\n",
      "\n",
      "\u001b[1m복합 튜플 생성\u001b[0;0m\n",
      "secInfo = ('SEC', 120, 130, (201712, 201713))\n"
     ]
    }
   ],
   "source": [
    "#빈 튜플 생성\n",
    "print(bold+\"빈 튜플 생성\"+reset)\n",
    "emptyTuple=list()\n",
    "print(\"emptyTuple=list()\")\n",
    "print(\"emptyTuple = \"+str(emptyTuple)+\"\\n\")\n",
    "\n",
    "#가격 집합 튜플 생성\n",
    "print(bold+\"가격 집합 튜플 생성\"+reset)\n",
    "priceTuple = (120,130,150,200,170)\n",
    "print(\"priceTuple = \"+str(priceTuple)+\"\\n\")\n",
    "\n",
    "#복합 튜플 생성\n",
    "print(bold+\"복합 튜플 생성\"+reset)\n",
    "secInfo = (\"SEC\",120,130,(201712,201713))\n",
    "print(\"secInfo = \"+str(secInfo))"
   ]
  },
  {
   "cell_type": "markdown",
   "metadata": {},
   "source": [
    "## 8. 딕셔너리"
   ]
  },
  {
   "cell_type": "markdown",
   "metadata": {},
   "source": [
    "### (Key, Value) 형태의 자료 구조로 특정년도의 주식명을  키로 요청하면 주가총액을 value로 불러오는 형태 \n",
    "### (2017년도 SEC, 주식총액)"
   ]
  },
  {
   "cell_type": "code",
   "execution_count": 85,
   "metadata": {},
   "outputs": [
    {
     "name": "stdout",
     "output_type": "stream",
     "text": [
      "\u001b[1m딕셔너리 생성\u001b[0;0m\n",
      "\u001b[1m1. d= dict(name=\"sec\", value=300000,address=\"suwon\")\u001b[0;0m\n",
      "dict_keys(['name', 'value', 'address'])\n",
      "dict_values(['sec', 300000, 'suwon'])\n",
      "dict_items([('name', 'sec'), ('value', 300000), ('address', 'suwon')])\n",
      "{'name': 'sec', 'value': 300000, 'address': 'suwon'}\n",
      "\n",
      "\n",
      "\u001b[1m2. dic = {\"name\":\"sec\",\"id\":\"300000\",\"address\":\"suwon\"}\u001b[0;0m\n",
      "{'name': 'sec', 'id': '300000', 'address': 'suwon'}\n",
      "dic['name'] = sec\n"
     ]
    }
   ],
   "source": [
    "#딕셔너리 생성\n",
    "print(bold+\"딕셔너리 생성\"+reset)\n",
    "print(bold+'1. d= dict(name=\"sec\", value=300000,address=\"suwon\")'+reset)\n",
    "d= dict(name=\"sec\", value=300000,address=\"suwon\")\n",
    "print(d.keys())\n",
    "print(d.values())\n",
    "print(d.items())\n",
    "print(d)\n",
    "print(\"\\n\")\n",
    "\n",
    "print(bold+'2. dic = {\"name\":\"sec\",\"id\":\"300000\",\"address\":\"suwon\"}'+reset)\n",
    "dic = {\"name\":\"sec\",\"id\":\"300000\",\"address\":\"suwon\"}\n",
    "print(dic)\n",
    "print(\"dic['name'] = \"+dic['name'])\n"
   ]
  },
  {
   "cell_type": "markdown",
   "metadata": {},
   "source": [
    "### 딕셔너리 관련 함수"
   ]
  },
  {
   "cell_type": "code",
   "execution_count": 93,
   "metadata": {},
   "outputs": [
    {
     "name": "stdout",
     "output_type": "stream",
     "text": [
      "{'name': 'sec', 'id': '300000', 'address': 'suwon'}\n",
      "dic['name'] = sec\n",
      "\u001b[1mdictional key value 추가/변경\u001b[0;0m\n",
      "{'name': 'sec2', 'id': '300000', 'address': 'suwon', 'stock': 'yes'}\n",
      "dic[\"stock\"] = yes\n",
      "\u001b[1mdiction 요소 삭제하기\u001b[0;0m\n",
      "del dic[\"id\"]\n",
      "{'name': 'sec2', 'address': 'suwon', 'stock': 'yes'}\n"
     ]
    }
   ],
   "source": [
    "dic = {\"name\":\"sec\",\"id\":\"300000\",\"address\":\"suwon\"}\n",
    "print(dic)\n",
    "print(\"dic['name'] = \"+dic['name'])\n",
    "\n",
    "# dictional key value 추가/변경\n",
    "print(bold+\"dictional key value 추가/변경\"+reset)\n",
    "dic[\"name\"] = \"sec2\"\n",
    "dic[\"stock\"] = \"yes\"\n",
    "print(dic)\n",
    "print('dic[\"stock\"] = '+dic[\"stock\"])\n",
    "\n",
    "# diction 요소 삭제하기\n",
    "print(bold+\"diction 요소 삭제하기\"+reset)\n",
    "del dic[\"id\"]\n",
    "print('del dic[\"id\"]')\n",
    "print(dic)\n"
   ]
  },
  {
   "cell_type": "markdown",
   "metadata": {},
   "source": [
    "### 예제 - dic = {\"name\":\"sec\",\"id\":\"300000\",\"address\":\"suwon\"} 에서 id를 삭제하여 출력하세요\n",
    "### {'name': 'sec', 'address': 'suwon’}\n"
   ]
  },
  {
   "cell_type": "code",
   "execution_count": 96,
   "metadata": {
    "scrolled": true
   },
   "outputs": [
    {
     "name": "stdout",
     "output_type": "stream",
     "text": [
      "testdic = {'name': 'sec', 'id': '300000', 'address': 'suwon'}\n",
      "del testdic[\"id\"]\n",
      "testdic = {'name': 'sec', 'address': 'suwon'}\n"
     ]
    }
   ],
   "source": [
    "testdic = {\"name\":\"sec\",\"id\":\"300000\",\"address\":\"suwon\"}\n",
    "print(\"testdic = \"+str(testdic))\n",
    "del testdic[\"id\"]\n",
    "print('del testdic[\"id\"]')\n",
    "print(\"testdic = \"+str(testdic))"
   ]
  },
  {
   "cell_type": "code",
   "execution_count": null,
   "metadata": {},
   "outputs": [],
   "source": []
  },
  {
   "cell_type": "code",
   "execution_count": null,
   "metadata": {},
   "outputs": [],
   "source": []
  }
 ],
 "metadata": {
  "kernelspec": {
   "display_name": "Python 3",
   "language": "python",
   "name": "python3"
  },
  "language_info": {
   "codemirror_mode": {
    "name": "ipython",
    "version": 3
   },
   "file_extension": ".py",
   "mimetype": "text/x-python",
   "name": "python",
   "nbconvert_exporter": "python",
   "pygments_lexer": "ipython3",
   "version": "3.6.4"
  }
 },
 "nbformat": 4,
 "nbformat_minor": 2
}
