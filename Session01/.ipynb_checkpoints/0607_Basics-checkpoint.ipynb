{
 "cells": [
  {
   "cell_type": "markdown",
   "metadata": {},
   "source": [
    "# 1. 파이썬 기본문법"
   ]
  },
  {
   "cell_type": "markdown",
   "metadata": {},
   "source": [
    "## 1. 라이브러리 / 변수 선언"
   ]
  },
  {
   "cell_type": "markdown",
   "metadata": {},
   "source": [
    "### import [라이브러리명]\n",
    "### [변수명] = 조건식"
   ]
  },
  {
   "cell_type": "code",
   "execution_count": 4,
   "metadata": {},
   "outputs": [
    {
     "name": "stdout",
     "output_type": "stream",
     "text": [
      "7\n"
     ]
    }
   ],
   "source": [
    "#시간계산 라이브러리 선언\n",
    "import datetime\n",
    "\n",
    "#now 변수에 현재시간 변수 담기\n",
    "now = datetime.datetime.now()\n",
    "\n",
    "#오늘날짜 변수담기 & 데이터 출력\n",
    "today = now.day\n",
    "print(today)"
   ]
  },
  {
   "cell_type": "markdown",
   "metadata": {},
   "source": [
    "### 예제 - numpy 라이브러리와 numpy의 linspace를 활용하여 1,5 까지 11개의 숫자를 생성하세요"
   ]
  },
  {
   "cell_type": "code",
   "execution_count": 3,
   "metadata": {
    "scrolled": true
   },
   "outputs": [
    {
     "data": {
      "text/plain": [
       "array([1. , 1.4, 1.8, 2.2, 2.6, 3. , 3.4, 3.8, 4.2, 4.6, 5. ])"
      ]
     },
     "execution_count": 3,
     "metadata": {},
     "output_type": "execute_result"
    }
   ],
   "source": [
    "import numpy as np\n",
    "np.linspace(1,5,11)"
   ]
  },
  {
   "cell_type": "code",
   "execution_count": 9,
   "metadata": {},
   "outputs": [],
   "source": [
    "import matplotlib.pyplot as plt\n",
    "import numpy as np\n",
    "\n",
    "# 바로 차트가 실행되도록 \n",
    "%matplotlib inline"
   ]
  },
  {
   "cell_type": "code",
   "execution_count": 10,
   "metadata": {},
   "outputs": [
    {
     "name": "stdout",
     "output_type": "stream",
     "text": [
      "[1.  1.4 1.8 2.2 2.6 3.  3.4 3.8 4.2 4.6 5. ]\n",
      "[ 1.    1.96  3.24  4.84  6.76  9.   11.56 14.44 17.64 21.16 25.  ]\n",
      "<class 'numpy.ndarray'>\n"
     ]
    },
    {
     "data": {
      "image/png": "[encoded data removed]",
      "text/plain": [
       "<matplotlib.figure.Figure at 0x18dcada0>"
      ]
     },
     "metadata": {},
     "output_type": "display_data"
    }
   ],
   "source": [
    "x = np.linspace(1,5,11)\n",
    "y = x ** 2\n",
    "\n",
    "plt.plot(x,y)\n",
    "\n",
    "print(x)\n",
    "print(y)\n",
    "print(type(x))"
   ]
  },
  {
   "cell_type": "markdown",
   "metadata": {},
   "source": [
    "## 2. 조건 판단하기"
   ]
  },
  {
   "cell_type": "markdown",
   "metadata": {},
   "source": [
    "### 조건문을 평가하고 참인 경우에만 구문이 수행\n",
    "### 2개 이상의 구문은 들여쓰기로 블록을 지정"
   ]
  },
  {
   "cell_type": "markdown",
   "metadata": {},
   "source": [
    "### if [조건문]: # 조건이 일치하는 경우 실행\n",
    "###    [조건문 참인경우 실행]\n",
    "### else:\n",
    "###    [조건문 불일치 시 실행]"
   ]
  },
  {
   "cell_type": "code",
   "execution_count": 5,
   "metadata": {},
   "outputs": [
    {
     "name": "stdout",
     "output_type": "stream",
     "text": [
      "True\n"
     ]
    }
   ],
   "source": [
    "# 변수에 특정 값 할당\n",
    "stockname = 'SEA'\n",
    "\n",
    "# 조건 식 수행 일치 시 실행\n",
    "if stockname == \"SEC\":\n",
    "    print(\"Union\")\n",
    "elif stockname == \"SEA\":\n",
    "    print(\"True\")\n",
    "# 조건이 일치하지 않는 경우 else 조건 실행\n",
    "else:\n",
    "    print(\"False\")\n"
   ]
  },
  {
   "cell_type": "markdown",
   "metadata": {},
   "source": [
    "### 예제 - SCORE  변수를 80으로 선언 후 90점이상 A, 80~90점 B, 이외 C 점수로 판단하는 조건문을 구현하세요"
   ]
  },
  {
   "cell_type": "code",
   "execution_count": 12,
   "metadata": {},
   "outputs": [
    {
     "name": "stdout",
     "output_type": "stream",
     "text": [
      "B\n"
     ]
    }
   ],
   "source": [
    "score = 80\n",
    "\n",
    "if score >= 90:\n",
    "    print(\"A\")\n",
    "elif score >= 80:\n",
    "    print(\"B\")\n",
    "else:\n",
    "    print(\"C\")"
   ]
  },
  {
   "cell_type": "markdown",
   "metadata": {},
   "source": [
    "## 3. 반복하기 (while, for)"
   ]
  },
  {
   "cell_type": "markdown",
   "metadata": {},
   "source": [
    "### while - 조건문은 구문이 수행되기 이전에 우선 평가 / 구문을 모두 수행 이후 다시 조건식 평가\n",
    "###             조건식이 거짓이면 while 문 탈출"
   ]
  },
  {
   "cell_type": "markdown",
   "metadata": {},
   "source": [
    "### for - 아이템이 모든 구문을 수행 / 모든 범위를 순회하거나 break를 만나면 for 문 종료"
   ]
  },
  {
   "cell_type": "markdown",
   "metadata": {},
   "source": [
    "### while (조건) loop : 조건 실패 시 조건 문 탈출\n",
    "### for (조건) : 조건 실패 시 조건 문 탈출"
   ]
  },
  {
   "cell_type": "code",
   "execution_count": 13,
   "metadata": {},
   "outputs": [
    {
     "name": "stdout",
     "output_type": "stream",
     "text": [
      "1\n",
      "2\n",
      "3\n",
      "4\n",
      "5\n",
      "6\n",
      "7\n",
      "8\n",
      "9\n",
      "10\n",
      "1번문제 시작!\n",
      "1\n",
      "2\n",
      "3\n",
      "4\n",
      "5\n",
      "6\n",
      "7\n",
      "8\n",
      "9\n",
      "10\n",
      "2번문제 시작!\n"
     ]
    }
   ],
   "source": [
    "#반복문 예제 #1\n",
    "i = 1\n",
    "while i <= 10:\n",
    "    print(i)\n",
    "    i=i+1;\n",
    "print(\"1번문제 시작!\")\n",
    "\n",
    "#반복문 예제 #2\n",
    "for i in range(1, 11):\n",
    "    print(i)\n",
    "print(\"2번문제 시작!\")\n"
   ]
  },
  {
   "cell_type": "markdown",
   "metadata": {},
   "source": [
    "#### for i in range(시작, 끝, 증가폭) (증가폭 안쓰면 1씩 증가)=(시작,끝)"
   ]
  },
  {
   "cell_type": "code",
   "execution_count": 18,
   "metadata": {},
   "outputs": [
    {
     "name": "stdout",
     "output_type": "stream",
     "text": [
      "1단 시작\n",
      "1 * 1 =  1 \n",
      "1 * 2 =  2 \n",
      "1 * 3 =  3 \n",
      "1 * 4 =  4 \n",
      "1 * 5 =  5 \n",
      "1 * 6 =  6 \n",
      "1 * 7 =  7 \n",
      "1 * 8 =  8 \n",
      "1 * 9 =  9 \n",
      "2단 시작\n",
      "2 * 1 =  2 \n",
      "2 * 2 =  4 \n",
      "2 * 3 =  6 \n",
      "2 * 4 =  8 \n",
      "2 * 5 =  10 \n",
      "2 * 6 =  12 \n",
      "2 * 7 =  14 \n",
      "2 * 8 =  16 \n",
      "2 * 9 =  18 \n",
      "3단 시작\n",
      "3 * 1 =  3 \n",
      "3 * 2 =  6 \n",
      "3 * 3 =  9 \n",
      "3 * 4 =  12 \n",
      "3 * 5 =  15 \n",
      "3 * 6 =  18 \n",
      "3 * 7 =  21 \n",
      "3 * 8 =  24 \n",
      "3 * 9 =  27 \n",
      "4단 시작\n",
      "4 * 1 =  4 \n",
      "4 * 2 =  8 \n",
      "4 * 3 =  12 \n",
      "4 * 4 =  16 \n",
      "4 * 5 =  20 \n",
      "4 * 6 =  24 \n",
      "4 * 7 =  28 \n",
      "4 * 8 =  32 \n",
      "4 * 9 =  36 \n",
      "5단 시작\n",
      "5 * 1 =  5 \n",
      "5 * 2 =  10 \n",
      "5 * 3 =  15 \n",
      "5 * 4 =  20 \n",
      "5 * 5 =  25 \n",
      "5 * 6 =  30 \n",
      "5 * 7 =  35 \n",
      "5 * 8 =  40 \n",
      "5 * 9 =  45 \n",
      "6단 시작\n",
      "6 * 1 =  6 \n",
      "6 * 2 =  12 \n",
      "6 * 3 =  18 \n",
      "6 * 4 =  24 \n",
      "6 * 5 =  30 \n",
      "6 * 6 =  36 \n",
      "6 * 7 =  42 \n",
      "6 * 8 =  48 \n",
      "6 * 9 =  54 \n",
      "7단 시작\n",
      "7 * 1 =  7 \n",
      "7 * 2 =  14 \n",
      "7 * 3 =  21 \n",
      "7 * 4 =  28 \n",
      "7 * 5 =  35 \n",
      "7 * 6 =  42 \n",
      "7 * 7 =  49 \n",
      "7 * 8 =  56 \n",
      "7 * 9 =  63 \n",
      "8단 시작\n",
      "8 * 1 =  8 \n",
      "8 * 2 =  16 \n",
      "8 * 3 =  24 \n",
      "8 * 4 =  32 \n",
      "8 * 5 =  40 \n",
      "8 * 6 =  48 \n",
      "8 * 7 =  56 \n",
      "8 * 8 =  64 \n",
      "8 * 9 =  72 \n",
      "9단 시작\n",
      "9 * 1 =  9 \n",
      "9 * 2 =  18 \n",
      "9 * 3 =  27 \n",
      "9 * 4 =  36 \n",
      "9 * 5 =  45 \n",
      "9 * 6 =  54 \n",
      "9 * 7 =  63 \n",
      "9 * 8 =  72 \n",
      "9 * 9 =  81 \n"
     ]
    }
   ],
   "source": [
    "for n in range(1,10):\n",
    "    print(\"{0}단 시작\".format(n))\n",
    "    for i in [1,2,3,4,5,6,7,8,9]:\n",
    "        print(\"{0} * {1} =  {2} \".format(n, i, n*i))\n",
    "\n"
   ]
  },
  {
   "cell_type": "code",
   "execution_count": 46,
   "metadata": {},
   "outputs": [
    {
     "name": "stdout",
     "output_type": "stream",
     "text": [
      "1단 시작\n",
      "1 * 1 =  1 \n",
      "1 * 2 =  2 \n",
      "1 * 3 =  3 \n",
      "1 * 4 =  4 \n",
      "1 * 5 =  5 \n",
      "3단 시작\n",
      "3 * 1 =  3 \n",
      "3 * 2 =  6 \n",
      "3 * 3 =  9 \n",
      "3 * 4 =  12 \n",
      "3 * 5 =  15 \n",
      "5단 시작\n",
      "5 * 1 =  5 \n",
      "5 * 2 =  10 \n",
      "5 * 3 =  15 \n",
      "5 * 4 =  20 \n",
      "5 * 5 =  25 \n",
      "7단 시작\n",
      "7 * 1 =  7 \n",
      "7 * 2 =  14 \n",
      "7 * 3 =  21 \n",
      "7 * 4 =  28 \n",
      "7 * 5 =  35 \n",
      "9단 시작\n",
      "9 * 1 =  9 \n",
      "9 * 2 =  18 \n",
      "9 * 3 =  27 \n",
      "9 * 4 =  36 \n",
      "9 * 5 =  45 \n",
      "1단 시작\n",
      "1 * 1 =  1 \n",
      "1 * 2 =  2 \n",
      "1 * 3 =  3 \n",
      "1 * 4 =  4 \n",
      "1 * 5 =  5 \n",
      "1 * 6 =  6 \n",
      "1 * 7 =  7 \n",
      "1 * 8 =  8 \n",
      "1 * 9 =  9 \n",
      "3단 시작\n",
      "3 * 1 =  3 \n",
      "3 * 2 =  6 \n",
      "3 * 3 =  9 \n",
      "3 * 4 =  12 \n",
      "3 * 5 =  15 \n",
      "3 * 6 =  18 \n",
      "3 * 7 =  21 \n",
      "3 * 8 =  24 \n",
      "3 * 9 =  27 \n",
      "5단 시작\n",
      "5 * 1 =  5 \n",
      "5 * 2 =  10 \n",
      "5 * 3 =  15 \n",
      "5 * 4 =  20 \n",
      "5 * 5 =  25 \n",
      "5 * 6 =  30 \n",
      "5 * 7 =  35 \n",
      "5 * 8 =  40 \n",
      "5 * 9 =  45 \n",
      "7단 시작\n",
      "7 * 1 =  7 \n",
      "7 * 2 =  14 \n",
      "7 * 3 =  21 \n",
      "7 * 4 =  28 \n",
      "7 * 5 =  35 \n",
      "7 * 6 =  42 \n",
      "7 * 7 =  49 \n",
      "7 * 8 =  56 \n",
      "7 * 9 =  63 \n",
      "9단 시작\n",
      "9 * 1 =  9 \n",
      "9 * 2 =  18 \n",
      "9 * 3 =  27 \n",
      "9 * 4 =  36 \n",
      "9 * 5 =  45 \n",
      "9 * 6 =  54 \n",
      "9 * 7 =  63 \n",
      "9 * 8 =  72 \n",
      "9 * 9 =  81 \n"
     ]
    }
   ],
   "source": [
    "for n in range(1,10,2):\n",
    "    print(\"{0}단 시작\".format(n))\n",
    "    for i in [1,2,3,4,5,6,7,8,9]:\n",
    "        if i > 5:\n",
    "            break\n",
    "        print(\"{0} * {1} =  {2} \".format(n, i, n*i))\n",
    "\n",
    "for n in range(1,10):\n",
    "    if n%2 == 0:\n",
    "            continue\n",
    "    print(\"{0}단 시작\".format(n))\n",
    "    for i in [1,2,3,4,5,6,7,8,9]:\n",
    "        print(\"{0} * {1} =  {2} \".format(n, i, n*i))\n"
   ]
  },
  {
   "cell_type": "markdown",
   "metadata": {},
   "source": [
    "### 예제 - Dictionary {‘A01’ : 한국, ‘A02’ : 미국, ‘A03’ : 인도} 생성 후 key를 for루프를 활용하여 출력하세요 "
   ]
  },
  {
   "cell_type": "code",
   "execution_count": 66,
   "metadata": {},
   "outputs": [
    {
     "name": "stdout",
     "output_type": "stream",
     "text": [
      "key값 출력\n",
      "방법 1\n",
      "A01\n",
      "A02\n",
      "A03\n",
      "\n",
      "방법 2\n",
      "A01\n",
      "A02\n",
      "A03\n",
      "\n",
      "value값 출력\n",
      "방법 1\n",
      "한국\n",
      "미국\n",
      "인도\n",
      "\n",
      "방법 2\n",
      "한국\n",
      "미국\n",
      "인도\n"
     ]
    }
   ],
   "source": [
    "Dictionary = {'A01' : '한국', 'A02' : '미국', 'A03' : '인도'}\n",
    "print(\"key값 출력\")\n",
    "print(\"방법 1\")\n",
    "for i in Dictionary.keys():\n",
    "    print(i)\n",
    "print(\"\\n방법 2\")\n",
    "for i in range(0,(len(Dictionary))):\n",
    "    print(list(Dictionary.keys())[i])\n",
    "print(\"\\n\"+\"value값 출력\")\n",
    "print(\"방법 1\")\n",
    "for i in Dictionary.values():\n",
    "    print(i)\n",
    "print(\"\\n방법 2\")\n",
    "for i in range(0,(len(Dictionary))):\n",
    "    print(list(Dictionary.values())[i])\n"
   ]
  },
  {
   "cell_type": "code",
   "execution_count": 72,
   "metadata": {},
   "outputs": [
    {
     "name": "stdout",
     "output_type": "stream",
     "text": [
      "A01\n",
      "A02\n",
      "A03\n",
      "한국\n",
      "미국\n",
      "인도\n",
      "A01 한국\n",
      "A02 미국\n",
      "A03 인도\n",
      "('A01', '한국')\n",
      "('A02', '미국')\n",
      "('A03', '인도')\n"
     ]
    }
   ],
   "source": [
    "Mapping = {'A01' : '한국', 'A02' : '미국', 'A03' : '인도'}\n",
    "\n",
    "# 키와 값 가져오기\n",
    "\n",
    "    # 키만 가져오기\n",
    "for key in Mapping.keys():\n",
    "    print(key)\n",
    "\n",
    "    # 값만 가져오기\n",
    "for value in Mapping.values():\n",
    "    print(value) \n",
    "\n",
    "for key, value in Mapping.items():\n",
    "    print(key, value)\n",
    "    \n",
    "for key in Mapping.items():\n",
    "    print(key)"
   ]
  },
  {
   "cell_type": "markdown",
   "metadata": {},
   "source": [
    "## 4. 자주 사용하는 내용 함수화 하기"
   ]
  },
  {
   "cell_type": "markdown",
   "metadata": {},
   "source": [
    "### def 함수명(입력변수#1, 입력변수#2,...):\n",
    "###             return 결과값"
   ]
  },
  {
   "cell_type": "code",
   "execution_count": 69,
   "metadata": {},
   "outputs": [
    {
     "name": "stdout",
     "output_type": "stream",
     "text": [
      "5\n",
      "20\n"
     ]
    }
   ],
   "source": [
    "# This function adds two numbers \n",
    "def add(x=10, y=10):\n",
    "   return x + y\n",
    "\n",
    "a = 3\n",
    "b = 2\n",
    "answer = add(a,b)\n",
    "print(answer)\n",
    "answerDefault = add()\n",
    "print(answerDefault)\n"
   ]
  },
  {
   "cell_type": "markdown",
   "metadata": {},
   "source": [
    "## ※람다함수 - 이름이 없는 한줄의 간단한 함수 / 프로그램 가독성 향상   * help(print) 프린트 함수 설명"
   ]
  },
  {
   "cell_type": "code",
   "execution_count": 73,
   "metadata": {},
   "outputs": [
    {
     "data": {
      "text/plain": [
       "6"
      ]
     },
     "execution_count": 73,
     "metadata": {},
     "output_type": "execute_result"
    }
   ],
   "source": [
    "# This function\n",
    "(lambda x,y: x*y)(3,2)\n"
   ]
  },
  {
   "cell_type": "markdown",
   "metadata": {},
   "source": [
    "## 5. 사용자 입력변수 받기"
   ]
  },
  {
   "cell_type": "markdown",
   "metadata": {},
   "source": [
    "### 입력변수 = input(\"입력을 위한 문구\")"
   ]
  },
  {
   "cell_type": "code",
   "execution_count": 74,
   "metadata": {},
   "outputs": [
    {
     "name": "stdout",
     "output_type": "stream",
     "text": [
      "성함을 입력하세요:이한민\n",
      "이한민\n"
     ]
    }
   ],
   "source": [
    "name = input(\"성함을 입력하세요:\")\n",
    "print(name)"
   ]
  },
  {
   "cell_type": "markdown",
   "metadata": {},
   "source": [
    "### 예제 - 사칙연산(+,-,*,/)을 할수 있는 함수를 생성한 후 사용자의 변수를 2개 inputX, inputY를 입력받아  \n",
    "### print문을 활용하여 더하기 예제를 출력하세요 "
   ]
  },
  {
   "cell_type": "code",
   "execution_count": 99,
   "metadata": {},
   "outputs": [
    {
     "name": "stdout",
     "output_type": "stream",
     "text": [
      "X값을 입력하세요 : 10\n",
      "Y값을 입력하세요 : 2\n",
      "\n",
      "\n",
      "덧셈 : \n",
      "12\n",
      "\n",
      "\n",
      "뺄셈 : \n",
      "8\n",
      "\n",
      "\n",
      "곱셈 : \n",
      "20\n",
      "\n",
      "\n",
      "나눗셈 : \n",
      "5.0\n",
      "\n",
      "\n"
     ]
    }
   ],
   "source": [
    "def add(x,y):\n",
    "    return x+y\n",
    "def minus(x,y):\n",
    "    return x-y\n",
    "def multiply(x,y):\n",
    "    return x*y\n",
    "def divide(x,y):\n",
    "    return x/y\n",
    "\n",
    "\n",
    "inputX = int(input(\"X값을 입력하세요 : \"))\n",
    "inputY = int(input(\"Y값을 입력하세요 : \"))\n",
    "\n",
    "print(\"\\n\")\n",
    "# 덧셈\n",
    "print(\"덧셈 : \")\n",
    "print(add(inputX,inputY))\n",
    "print(\"\\n\")\n",
    "\n",
    "# 뺄셈\n",
    "print(\"뺄셈 : \")\n",
    "print(minus(inputX,inputY))\n",
    "print(\"\\n\")\n",
    "\n",
    "# 곱셈\n",
    "print(\"곱셈 : \")\n",
    "print(multiply(inputX,inputY))\n",
    "print(\"\\n\")\n",
    "\n",
    "# 나눗셈\n",
    "print(\"나눗셈 : \")\n",
    "print(divide(inputX,inputY))\n",
    "print(\"\\n\")\n"
   ]
  },
  {
   "cell_type": "code",
   "execution_count": 98,
   "metadata": {},
   "outputs": [
    {
     "name": "stdout",
     "output_type": "stream",
     "text": [
      "X값을 입력하세요 : 10\n",
      "Y값을 입력하세요 : 2\n",
      "\n",
      "\n",
      "(덧셈, 뺄셈, 곱셈, 나눗셈)\n",
      "(12, 8, 20, 5.0)\n",
      "\n",
      "\n"
     ]
    }
   ],
   "source": [
    "# 한번에 모든 과정 진행\n",
    "def calc(x,y):\n",
    "    return x+y, x-y, x*y, x/y\n",
    "\n",
    "inputX = int(input(\"X값을 입력하세요 : \"))\n",
    "inputY = int(input(\"Y값을 입력하세요 : \"))\n",
    "\n",
    "print(\"\\n\")\n",
    "# 덧셈, 뺄셈, 곱셈, 나눗셈\n",
    "print(\"(덧셈, 뺄셈, 곱셈, 나눗셈)\")\n",
    "print(calc(inputX,inputY))\n",
    "print(\"\\n\")"
   ]
  }
 ],
 "metadata": {
  "kernelspec": {
   "display_name": "Python 3",
   "language": "python",
   "name": "python3"
  },
  "language_info": {
   "codemirror_mode": {
    "name": "ipython",
    "version": 3
   },
   "file_extension": ".py",
   "mimetype": "text/x-python",
   "name": "python",
   "nbconvert_exporter": "python",
   "pygments_lexer": "ipython3",
   "version": "3.6.4"
  }
 },
 "nbformat": 4,
 "nbformat_minor": 2
}
